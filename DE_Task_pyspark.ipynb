{
  "nbformat": 4,
  "nbformat_minor": 0,
  "metadata": {
    "colab": {
      "provenance": [],
      "authorship_tag": "ABX9TyOt9Rp3XPgazjbMADo+cFmJ",
      "include_colab_link": true
    },
    "kernelspec": {
      "name": "python3",
      "display_name": "Python 3"
    },
    "language_info": {
      "name": "python"
    }
  },
  "cells": [
    {
      "cell_type": "markdown",
      "metadata": {
        "id": "view-in-github",
        "colab_type": "text"
      },
      "source": [
        "<a href=\"https://colab.research.google.com/github/durgaprasadpr718/DE-Task/blob/main/DE_Task.ipynb\" target=\"_parent\"><img src=\"https://colab.research.google.com/assets/colab-badge.svg\" alt=\"Open In Colab\"/></a>"
      ]
    },
    {
      "cell_type": "markdown",
      "source": [
        "Install Pyspark"
      ],
      "metadata": {
        "id": "gotOds07BOHP"
      }
    },
    {
      "cell_type": "code",
      "source": [
        "!pip install pyspark"
      ],
      "metadata": {
        "colab": {
          "base_uri": "https://localhost:8080/"
        },
        "id": "dlt5GbOzBJtv",
        "outputId": "b2815926-a098-4045-a534-2c1ee8880d83"
      },
      "execution_count": 3,
      "outputs": [
        {
          "output_type": "stream",
          "name": "stdout",
          "text": [
            "Requirement already satisfied: pyspark in /usr/local/lib/python3.11/dist-packages (3.5.4)\n",
            "Requirement already satisfied: py4j==0.10.9.7 in /usr/local/lib/python3.11/dist-packages (from pyspark) (0.10.9.7)\n"
          ]
        }
      ]
    },
    {
      "cell_type": "markdown",
      "source": [
        "Import necessary libraries"
      ],
      "metadata": {
        "id": "-KUp561vBXeE"
      }
    },
    {
      "cell_type": "code",
      "source": [
        "from pyspark.sql import SparkSession\n",
        "from pyspark.sql.functions import col, floor, datediff, current_date, to_date, when, count\n",
        "from pyspark.sql.types import StructType, StructField, StringType, DateType\n",
        "from datetime import datetime"
      ],
      "metadata": {
        "id": "ketDXinhBdJu"
      },
      "execution_count": 21,
      "outputs": []
    },
    {
      "cell_type": "markdown",
      "source": [
        "Initialize Spark Session"
      ],
      "metadata": {
        "id": "WpGC-m20BjO9"
      }
    },
    {
      "cell_type": "code",
      "source": [
        "spark = SparkSession.builder \\\n",
        "    .appName(\"CustomerDataProcessing\") \\\n",
        "    .config(\"spark.sql.repl.eagerEval.enabled\", True) \\\n",
        "    .getOrCreate()"
      ],
      "metadata": {
        "id": "0ObUo2InBjs5"
      },
      "execution_count": 10,
      "outputs": []
    },
    {
      "cell_type": "markdown",
      "source": [
        "Create Tables by defining schema"
      ],
      "metadata": {
        "id": "Cy1Yi2OABweo"
      }
    },
    {
      "cell_type": "code",
      "source": [
        "# Define schema\n",
        "schema = StructType([\n",
        "    StructField(\"Customer_ID\", StringType(), False),\n",
        "    StructField(\"DOB\", DateType(), False),\n",
        "    StructField(\"Open_Date\", DateType(), False),\n",
        "    StructField(\"Last_Consulted_Date\", DateType(), True),\n",
        "    StructField(\"Country\", StringType(), False),\n",
        "    StructField(\"Post_Code\", StringType(), True),\n",
        "    StructField(\"Phone_Number\", StringType(), False),\n",
        "    StructField(\"Active_Customer\", StringType(), False)\n",
        "])\n",
        "\n",
        "# Convert date strings to datetime.date objects\n",
        "data = [\n",
        "    (\"C001\", datetime.strptime(\"1990-06-15\", \"%Y-%m-%d\").date(),\n",
        "     datetime.strptime(\"2022-01-01\", \"%Y-%m-%d\").date(),\n",
        "     datetime.strptime(\"2023-10-15\", \"%Y-%m-%d\").date(),\n",
        "     \"IND\", \"560001\", \"9876543210\", \"Yes\"),\n",
        "\n",
        "    (\"C002\", datetime.strptime(\"1985-09-25\", \"%Y-%m-%d\").date(),\n",
        "     datetime.strptime(\"2021-05-10\", \"%Y-%m-%d\").date(),\n",
        "     datetime.strptime(\"2023-11-01\", \"%Y-%m-%d\").date(),\n",
        "     \"USA\", \"10001\", \"1234567890\", \"No\"),\n",
        "\n",
        "    (\"C003\", datetime.strptime(\"2000-03-10\", \"%Y-%m-%d\").date(),\n",
        "     datetime.strptime(\"2023-02-20\", \"%Y-%m-%d\").date(),\n",
        "     datetime.strptime(\"2023-09-01\", \"%Y-%m-%d\").date(),\n",
        "     \"IND\", \"560002\", \"9876501234\", \"Yes\"),\n",
        "\n",
        "    (\"C004\", datetime.strptime(\"1995-07-20\", \"%Y-%m-%d\").date(),\n",
        "     datetime.strptime(\"2020-12-05\", \"%Y-%m-%d\").date(),\n",
        "     datetime.strptime(\"2023-07-20\", \"%Y-%m-%d\").date(),\n",
        "     \"IND\", \"560003\", \"7890654321\", \"No\")\n",
        "]\n",
        "\n",
        "# Create DataFrame\n",
        "df = spark.createDataFrame(data, schema=schema)\n",
        "\n",
        "# Show results\n",
        "df.show()\n",
        "df.printSchema()"
      ],
      "metadata": {
        "colab": {
          "base_uri": "https://localhost:8080/"
        },
        "id": "6JWDswl2Bw8o",
        "outputId": "8ea3be8b-e0ce-4ffe-c76b-7fa31f13995f"
      },
      "execution_count": 11,
      "outputs": [
        {
          "output_type": "stream",
          "name": "stdout",
          "text": [
            "+-----------+----------+----------+-------------------+-------+---------+------------+---------------+\n",
            "|Customer_ID|       DOB| Open_Date|Last_Consulted_Date|Country|Post_Code|Phone_Number|Active_Customer|\n",
            "+-----------+----------+----------+-------------------+-------+---------+------------+---------------+\n",
            "|       C001|1990-06-15|2022-01-01|         2023-10-15|    IND|   560001|  9876543210|            Yes|\n",
            "|       C002|1985-09-25|2021-05-10|         2023-11-01|    USA|    10001|  1234567890|             No|\n",
            "|       C003|2000-03-10|2023-02-20|         2023-09-01|    IND|   560002|  9876501234|            Yes|\n",
            "|       C004|1995-07-20|2020-12-05|         2023-07-20|    IND|   560003|  7890654321|             No|\n",
            "+-----------+----------+----------+-------------------+-------+---------+------------+---------------+\n",
            "\n",
            "root\n",
            " |-- Customer_ID: string (nullable = false)\n",
            " |-- DOB: date (nullable = false)\n",
            " |-- Open_Date: date (nullable = false)\n",
            " |-- Last_Consulted_Date: date (nullable = true)\n",
            " |-- Country: string (nullable = false)\n",
            " |-- Post_Code: string (nullable = true)\n",
            " |-- Phone_Number: string (nullable = false)\n",
            " |-- Active_Customer: string (nullable = false)\n",
            "\n"
          ]
        }
      ]
    },
    {
      "cell_type": "markdown",
      "source": [
        "Create the above tables with additional derived columns: age and days since last consulted >30"
      ],
      "metadata": {
        "id": "NKaci-12CybM"
      }
    },
    {
      "cell_type": "code",
      "source": [
        "# Add 'age' column (years between DOB and current date)\n",
        "df = df.withColumn(\"age\", floor(datediff(current_date(), col(\"DOB\")) / 365))\n",
        "\n",
        "df_transformed = df.withColumn(\"Age\", floor(datediff(current_date(), col(\"DOB\")) / 365)) \\\n",
        "                   .withColumn(\"Days_Since_Last_Consulted\", datediff(current_date(), col(\"Last_Consulted_Date\")))\n",
        "df_transformed.show()\n",
        "\n",
        "# Add 'days_since_last_consulted_30' column (True if >30 days, False otherwise)\n",
        "df_transformed1 = df.withColumn(\"days_since_last_consulted_30\", when(datediff(current_date(), col(\"Last_Consulted_Date\")) > 30, True).otherwise(False))\n",
        "\n",
        "# Show updated DataFrame\n",
        "df_transformed1.show()"
      ],
      "metadata": {
        "colab": {
          "base_uri": "https://localhost:8080/"
        },
        "id": "hdwc8NTqCyw0",
        "outputId": "7a21ad7c-b8d0-48eb-b9de-2b3e8f97f76c"
      },
      "execution_count": 23,
      "outputs": [
        {
          "output_type": "stream",
          "name": "stdout",
          "text": [
            "+-----------+----------+----------+-------------------+-------+---------+------------+---------------+---+----------------------------+-------------------------+\n",
            "|Customer_ID|       DOB| Open_Date|Last_Consulted_Date|Country|Post_Code|Phone_Number|Active_Customer|Age|days_since_last_consulted_30|Days_Since_Last_Consulted|\n",
            "+-----------+----------+----------+-------------------+-------+---------+------------+---------------+---+----------------------------+-------------------------+\n",
            "|       C001|1990-06-15|2022-01-01|         2023-10-15|    IND|   560001|  9876543210|            Yes| 34|                        true|                      472|\n",
            "|       C002|1985-09-25|2021-05-10|         2023-11-01|    USA|    10001|  1234567890|             No| 39|                        true|                      455|\n",
            "|       C003|2000-03-10|2023-02-20|         2023-09-01|    IND|   560002|  9876501234|            Yes| 24|                        true|                      516|\n",
            "|       C004|1995-07-20|2020-12-05|         2023-07-20|    IND|   560003|  7890654321|             No| 29|                        true|                      559|\n",
            "+-----------+----------+----------+-------------------+-------+---------+------------+---------------+---+----------------------------+-------------------------+\n",
            "\n",
            "+-----------+----------+----------+-------------------+-------+---------+------------+---------------+---+----------------------------+\n",
            "|Customer_ID|       DOB| Open_Date|Last_Consulted_Date|Country|Post_Code|Phone_Number|Active_Customer|age|days_since_last_consulted_30|\n",
            "+-----------+----------+----------+-------------------+-------+---------+------------+---------------+---+----------------------------+\n",
            "|       C001|1990-06-15|2022-01-01|         2023-10-15|    IND|   560001|  9876543210|            Yes| 34|                        true|\n",
            "|       C002|1985-09-25|2021-05-10|         2023-11-01|    USA|    10001|  1234567890|             No| 39|                        true|\n",
            "|       C003|2000-03-10|2023-02-20|         2023-09-01|    IND|   560002|  9876501234|            Yes| 24|                        true|\n",
            "|       C004|1995-07-20|2020-12-05|         2023-07-20|    IND|   560003|  7890654321|             No| 29|                        true|\n",
            "+-----------+----------+----------+-------------------+-------+---------+------------+---------------+---+----------------------------+\n",
            "\n"
          ]
        }
      ]
    },
    {
      "cell_type": "markdown",
      "source": [
        "**Validations**"
      ],
      "metadata": {
        "id": "PfWQaBVQDjm0"
      }
    },
    {
      "cell_type": "markdown",
      "source": [
        "Validate Missing Data"
      ],
      "metadata": {
        "id": "MTCl2lUCDj5X"
      }
    },
    {
      "cell_type": "code",
      "source": [
        "df_transformed.select([count(when(col(c).isNull(), c)).alias(c) for c in df_transformed.columns]).show()"
      ],
      "metadata": {
        "colab": {
          "base_uri": "https://localhost:8080/"
        },
        "id": "BgSQ4-oqDqCh",
        "outputId": "6a200b9c-2d70-4b28-ed3b-0aeb3c62d44b"
      },
      "execution_count": 24,
      "outputs": [
        {
          "output_type": "stream",
          "name": "stdout",
          "text": [
            "+-----------+---+---------+-------------------+-------+---------+------------+---------------+---+----------------------------+-------------------------+\n",
            "|Customer_ID|DOB|Open_Date|Last_Consulted_Date|Country|Post_Code|Phone_Number|Active_Customer|Age|days_since_last_consulted_30|Days_Since_Last_Consulted|\n",
            "+-----------+---+---------+-------------------+-------+---------+------------+---------------+---+----------------------------+-------------------------+\n",
            "|          0|  0|        0|                  0|      0|        0|           0|              0|  0|                           0|                        0|\n",
            "+-----------+---+---------+-------------------+-------+---------+------------+---------------+---+----------------------------+-------------------------+\n",
            "\n"
          ]
        }
      ]
    },
    {
      "cell_type": "markdown",
      "source": [
        "Validate Age Calculation"
      ],
      "metadata": {
        "id": "APQaSQAIEFMj"
      }
    },
    {
      "cell_type": "code",
      "source": [
        "df_transformed.select(\"Customer_ID\", \"DOB\", \"Age\").show()"
      ],
      "metadata": {
        "colab": {
          "base_uri": "https://localhost:8080/"
        },
        "id": "qAHLlUZ7Ed72",
        "outputId": "764eb3be-1535-446e-ab41-83aa7c335824"
      },
      "execution_count": 25,
      "outputs": [
        {
          "output_type": "stream",
          "name": "stdout",
          "text": [
            "+-----------+----------+---+\n",
            "|Customer_ID|       DOB|Age|\n",
            "+-----------+----------+---+\n",
            "|       C001|1990-06-15| 34|\n",
            "|       C002|1985-09-25| 39|\n",
            "|       C003|2000-03-10| 24|\n",
            "|       C004|1995-07-20| 29|\n",
            "+-----------+----------+---+\n",
            "\n"
          ]
        }
      ]
    },
    {
      "cell_type": "markdown",
      "source": [
        "Validate Customers with Last Consult > 30 Days"
      ],
      "metadata": {
        "id": "I9CgvzW1EgWB"
      }
    },
    {
      "cell_type": "code",
      "source": [
        "df_filtered = df_transformed.filter(col(\"Days_Since_Last_Consulted\") > 30)\n",
        "df_filtered.show()"
      ],
      "metadata": {
        "colab": {
          "base_uri": "https://localhost:8080/"
        },
        "id": "bZoJwoGBEjFj",
        "outputId": "b33a38a9-1349-44ff-cef1-3736be072d9e"
      },
      "execution_count": 26,
      "outputs": [
        {
          "output_type": "stream",
          "name": "stdout",
          "text": [
            "+-----------+----------+----------+-------------------+-------+---------+------------+---------------+---+----------------------------+-------------------------+\n",
            "|Customer_ID|       DOB| Open_Date|Last_Consulted_Date|Country|Post_Code|Phone_Number|Active_Customer|Age|days_since_last_consulted_30|Days_Since_Last_Consulted|\n",
            "+-----------+----------+----------+-------------------+-------+---------+------------+---------------+---+----------------------------+-------------------------+\n",
            "|       C001|1990-06-15|2022-01-01|         2023-10-15|    IND|   560001|  9876543210|            Yes| 34|                        true|                      472|\n",
            "|       C002|1985-09-25|2021-05-10|         2023-11-01|    USA|    10001|  1234567890|             No| 39|                        true|                      455|\n",
            "|       C003|2000-03-10|2023-02-20|         2023-09-01|    IND|   560002|  9876501234|            Yes| 24|                        true|                      516|\n",
            "|       C004|1995-07-20|2020-12-05|         2023-07-20|    IND|   560003|  7890654321|             No| 29|                        true|                      559|\n",
            "+-----------+----------+----------+-------------------+-------+---------+------------+---------------+---+----------------------------+-------------------------+\n",
            "\n"
          ]
        }
      ]
    }
  ]
}
